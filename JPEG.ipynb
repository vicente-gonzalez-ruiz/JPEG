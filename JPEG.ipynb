{
 "cells": [
  {
   "cell_type": "markdown",
   "metadata": {},
   "source": [
    "# The JPEG standard (ISO/IEC 10918-1)"
   ]
  },
  {
   "cell_type": "markdown",
   "metadata": {},
   "source": [
    "## Intro\n",
    "\n",
    "* JPEG = Joint Photographic Experts Group.\n",
    "* Developed in 1992 by the ISO [[ISO, 1992]](https://idea2ic.com/File_Formats/CCITT.pdf).\n",
    "* True color (up to 24 bits/pixel) and grayscale (up to 8\n",
    "  bits/pixel) images.\n",
    "* Eligible compression quality between $0-100$ [[Wallace, 1992]](https://scholar.google.es/scholar?hl=es&as_sdt=0%2C5&q=GK+Wallace+jpeg+1992&btnG=).\n",
    "* Visually lossless reconstructions of color images for\n",
    "  compression ratios about $1$ bits/pixel (bpp).\n",
    "* Based on the Discrete Cosine Transform (DCT).\n",
    "* Several working modes: lossy (JPEG), lossless (JPEG-LS) and hierarchical."
   ]
  },
  {
   "cell_type": "markdown",
   "metadata": {},
   "source": [
    "## A. lossless JPEG [[ISO, 1992]](https://idea2ic.com/File_Formats/CCITT.pdf)\n",
    "\n",
    "* Based on an spatial predictor and a 0-order static\n",
    "  variable-length encoder (Huffman).\n",
    "\n",
    "* The block diagram is:\n",
    "<img src=\"JPEG/LS-JPEG_codec.svg\" style=\"width: 400px;\"/>\n",
    "where\n",
    "<img src=\"JPEG/contexto_prediccion_JPEG.svg\" style=\"width: 100px;\"/>\n",
    "and\n",
    "<img src=\"JPEG/LS-JPEG_predictors.svg\" style=\"width: 200px;\"/>"
   ]
  },
  {
   "cell_type": "markdown",
   "metadata": {},
   "source": [
    "### Coder\n",
    "1. Generate $\\hat{s}$.\n",
    "2. Compute the prediction error $e\\leftarrow s - \\hat{s}$.\n",
    "3. Encode symbol $e$."
   ]
  },
  {
   "cell_type": "markdown",
   "metadata": {},
   "source": [
    "### Decoder\n",
    "1. Generate $\\hat{s}$ (idential to the Step 1 of the compressor).\n",
    "2. Decode symbol $e$.\n",
    "3. Compute the pixel value $s\\leftarrow e+\\hat{s}$."
   ]
  },
  {
   "cell_type": "markdown",
   "metadata": {},
   "source": [
    "Categories:\n",
    "<img src=\"JPEG/categorias.svg\" style=\"width: 350px;\"/>\n",
    "\n",
    "Huffman codes:\n",
    "<img src=\"JPEG/codigos.svg\" style=\"width: 200px;\"/>"
   ]
  },
  {
   "cell_type": "markdown",
   "metadata": {},
   "source": [
    "### Encode symbol\n",
    "\n",
    "1. Search $e$ in $DIFF$ and select $SSSS$.\n",
    "2. Encode $SSSS$ following the base code.\n",
    "3. If $e>0$, then:\n",
    "   1. Encode $e$ using a binary number of $SSSS$ bits. The most\n",
    "      significant bit of $e$ will be always 1.\n",
    "4. Else:\n",
    "   2. Encode $e-1$ using a binary number of $SSSS$ bits. The most\n",
    "    significant bit of $e$ will be always a 0.\n",
    "    \n",
    "Example ($e=5$):\n",
    "\n",
    "* [1] $SSSS=3$.\n",
    "* [2] Output $\\leftarrow 100_2$.\n",
    "* [3.A] Output $\\leftarrow 101_2$.\n",
    "\n",
    "Example ($e=-9$):\n",
    "\n",
    "* [1] $SSSS=4$.\n",
    "* [2] Output $\\leftarrow 101_2$.\n",
    "* [4.A] Output $\\leftarrow 0110_2$ (the four least significant bits of the two's complement of $-10_{10}$)."
   ]
  },
  {
   "cell_type": "markdown",
   "metadata": {},
   "source": [
    "### Decode symbol\n",
    "\n",
    "1. Decode the $SSSS$ category using the base code.\n",
    "2. Decode the magnitude. Let $x\\leftarrow$ the next input bit.\n",
    "3. If $x\\ne 0$, then:\n",
    "   1. $e\\leftarrow x << (SSSS-1) + \\text{next}~(SSSS-1)$ bits.\n",
    "4. Else:\n",
    "  1. $e\\leftarrow (-1)~\\text{AND}~(x << (SSSS-1)+\\text{next}~(SSSS-1)~\\text{bits}+1)$.\n",
    "  \n",
    "Example (decode $100101$):\n",
    "\n",
    "* [1] $SSSS\\leftarrow 3$.\n",
    "* [2] $x\\leftarrow 1$.\n",
    "* [3.A] $e\\leftarrow 2^2+$ next two input bits (01) $=101_2=5_{10}$.\n",
    "\n",
    "Example (decode $1010110$):\n",
    "\n",
    "* [1] $SSSS\\leftarrow 4$.\n",
    "* [2] $x\\leftarrow 0$.\n",
    "* [4.A] (Using 8 bits of precision) $e\\leftarrow$ $11111111_2$ AND ($0000_2+110_2+1_2) = 11110111_2 = -9_{10}$ (the four least significant bits of $0111_2$ are supposed to be $1$."
   ]
  },
  {
   "cell_type": "markdown",
   "metadata": {},
   "source": [
    "### Lab"
   ]
  },
  {
   "cell_type": "code",
   "execution_count": null,
   "metadata": {},
   "outputs": [],
   "source": [
    "!wget https://sourceforge.net/projects/jpeg/files/jpeg/Cornell%20LJPEG%20v1.0/ljpg.tar.Z/download?use_mirror=ayera&download=&failedmirror=kent.dl.sourceforge.net\n",
    "!uncompress ljpg.tar.Z\n",
    "!tar xv ljpg.tar\n",
    "%cd ljpg\n",
    "!make"
   ]
  },
  {
   "cell_type": "markdown",
   "metadata": {},
   "source": [
    "```\n",
    "  Codec | lena boats pepers zelda Average                                                                              \n",
    "--------+--------------------------------                                                                              \n",
    "      : |    :     :      :     :       :                                                                              \n",
    "ls-jpeg | ....  ....   ....  ....    ....                                                                              \n",
    "```"
   ]
  },
  {
   "cell_type": "markdown",
   "metadata": {},
   "source": [
    "## B. (Lossy) JPEG"
   ]
  },
  {
   "cell_type": "markdown",
   "metadata": {},
   "source": [
    "### Coder\n",
    "\n",
    "1. RGB $\\rightarrow$ YCbCr.\n",
    "2. 4:2:0 chroma subsampling.\n",
    "1. $[0,255]\\rightarrow [-128,127]$ for each component.\n",
    "2. For each component:\n",
    "    1. Compute $8\\times 8$-DCT.\n",
    "    2. Quantize.\n",
    "    3. Encode."
   ]
  },
  {
   "cell_type": "markdown",
   "metadata": {},
   "source": [
    "### Decoder\n",
    "\n",
    "1. For each component:\n",
    "    1. Decode.\n",
    "    2. Compute inverse $8\\times 8$-DCT.\n",
    "2. $[-128,127]\\rightarrow [0,255]$ for each component.\n",
    "3. YCbCr $\\rightarrow$ RGB."
   ]
  },
  {
   "cell_type": "markdown",
   "metadata": {},
   "source": [
    "#### [RGB $\\leftrightarrow$ YCbCr](https://render.githubusercontent.com/view/ipynb?commit=de449974f00109d7db4b1d3600fff59e38ae5d3e&enc_url=68747470733a2f2f7261772e67697468756275736572636f6e74656e742e636f6d2f766963656e74652d676f6e7a616c657a2d7275697a2f7465616368696e672f646534343939373466303031303964376462346231643336303066666635396533386165356433652f636f64696e672f696d6167652f30302d66756e64616d656e74616c732e6970796e62&nwo=vicente-gonzalez-ruiz%2Fteaching&path=coding%2Fimage%2F00-fundamentals.ipynb&repository_id=106699533&repository_type=Repository#Luminance-and-chrominance)\n",
    "Cb and Cr signals can be subsampled without visual loss."
   ]
  },
  {
   "cell_type": "markdown",
   "metadata": {},
   "source": [
    "### 4:2:0 [chroma subsampling](https://render.githubusercontent.com/view/ipynb?commit=de449974f00109d7db4b1d3600fff59e38ae5d3e&enc_url=68747470733a2f2f7261772e67697468756275736572636f6e74656e742e636f6d2f766963656e74652d676f6e7a616c657a2d7275697a2f7465616368696e672f646534343939373466303031303964376462346231643336303066666635396533386165356433652f636f64696e672f696d6167652f30302d66756e64616d656e74616c732e6970796e62&nwo=vicente-gonzalez-ruiz%2Fteaching&path=coding%2Fimage%2F00-fundamentals.ipynb&repository_id=106699533&repository_type=Repository#Chrominance-subsampling)\n",
    "Reduces the size of Cb and Cr signas in 1/4."
   ]
  },
  {
   "cell_type": "markdown",
   "metadata": {},
   "source": [
    "#### $[0,255]\\leftrightarrow [-128,127]$\n",
    "Each component must be 0-average. This is neccesary to reduce the arithmetic precision of the computation of DCT."
   ]
  },
  {
   "cell_type": "markdown",
   "metadata": {},
   "source": [
    "#### [$8\\times 8$ DCT]()"
   ]
  },
  {
   "cell_type": "code",
   "execution_count": null,
   "metadata": {},
   "outputs": [],
   "source": []
  },
  {
   "cell_type": "code",
   "execution_count": null,
   "metadata": {},
   "outputs": [],
   "source": []
  }
 ],
 "metadata": {
  "kernelspec": {
   "display_name": "Python 3",
   "language": "python",
   "name": "python3"
  },
  "language_info": {
   "codemirror_mode": {
    "name": "ipython",
    "version": 3
   },
   "file_extension": ".py",
   "mimetype": "text/x-python",
   "name": "python",
   "nbconvert_exporter": "python",
   "pygments_lexer": "ipython3",
   "version": "3.6.3"
  }
 },
 "nbformat": 4,
 "nbformat_minor": 2
}
